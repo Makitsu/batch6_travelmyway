{
 "cells": [
  {
   "cell_type": "code",
   "execution_count": null,
   "metadata": {},
   "outputs": [],
   "source": [
    "# This Notebook contains function to call the Skyscanner API, and format the response in a readable way"
   ]
  },
  {
   "cell_type": "code",
   "execution_count": 412,
   "metadata": {},
   "outputs": [],
   "source": [
    "import requests\n",
    "import pandas as pd\n",
    "import copy\n",
    "import zipfile\n",
    "import io\n",
    "\n",
    "pd.set_option('display.max_columns', 999)\n",
    "pd.set_option('display.width', 1000)\n"
   ]
  },
  {
   "cell_type": "code",
   "execution_count": 428,
   "metadata": {},
   "outputs": [
    {
     "name": "stdout",
     "output_type": "stream",
     "text": [
      "found 9300 airports, here is an example \n",
      "     Code                    AirportName       City Country  latitude  longitude             geoloc\n",
      "140  YGQ  GERALDTON GREENSTONE REGIONAL  GERALDTON  CANADA    49.778    -86.939  [49.778, -86.939] \n"
     ]
    }
   ],
   "source": [
    "# Create an Airport Database to link a airport code to it's location\n",
    "# get airport db from http://www.partow.net/downloads/GlobalAirportDatabase.zip\n",
    "r = requests.get('http://www.partow.net/downloads/GlobalAirportDatabase.zip')\n",
    "csv_buffer = io.BytesIO(r.content)\n",
    "z = zipfile.ZipFile(csv_buffer)\n",
    "with z:\n",
    "   with z.open(\"GlobalAirportDatabase.txt\") as f:\n",
    "      airports = pd.read_csv(f, header=None, sep=':')\n",
    "\n",
    "airports = airports.rename(columns={1: 'Code', 2: 'AirportName', 3: 'City', 4: 'Country', 14: 'latitude',15:'longitude'})\n",
    "airports = airports[['Code', 'AirportName', 'City', 'Country', 'latitude', 'longitude']]\n",
    "airports['geoloc']= airports.apply(lambda x: [x.latitude,x.longitude], axis=1)\n",
    "\n",
    "print(f'found {airports.shape[0]} airports, here is an example: \\n {airports[airports.latitude!=0.0].sample()} ')\n"
   ]
  },
  {
   "cell_type": "code",
   "execution_count": 181,
   "metadata": {},
   "outputs": [],
   "source": [
    "# Custom function to handle DF\n",
    "def pandas_explode(df, column_to_explode):\n",
    "    \"\"\"\n",
    "    Similar to Hive's EXPLODE function, take a column with iterable elements, and flatten the iterable to one element \n",
    "    per observation in the output table\n",
    "\n",
    "    :param df: A dataframe to explod\n",
    "    :type df: pandas.DataFrame\n",
    "    :param column_to_explode: \n",
    "    :type column_to_explode: str\n",
    "    :return: An exploded data frame\n",
    "    :rtype: pandas.DataFrame\n",
    "    \"\"\"\n",
    "\n",
    "    # Create a list of new observations\n",
    "    new_observations = list()\n",
    "\n",
    "    # Iterate through existing observations\n",
    "    for row in df.to_dict(orient='records'):\n",
    "\n",
    "        # Take out the exploding iterable\n",
    "        explode_values = row[column_to_explode]\n",
    "        del row[column_to_explode]\n",
    "\n",
    "        # Create a new observation for every entry in the exploding iterable & add all of the other columns\n",
    "        for explode_value in explode_values:\n",
    "\n",
    "            # Deep copy existing observation\n",
    "            new_observation = copy.deepcopy(row)\n",
    "\n",
    "            # Add one (newly flattened) value from exploding iterable\n",
    "            new_observation[column_to_explode] = explode_value\n",
    "\n",
    "            # Add to the list of new observations\n",
    "            new_observations.append(new_observation)\n",
    "\n",
    "    # Create a DataFrame\n",
    "    return_df = pd.DataFrame(new_observations)\n",
    "\n",
    "    # Return\n",
    "    return return_df\n"
   ]
  },
  {
   "cell_type": "code",
   "execution_count": 377,
   "metadata": {},
   "outputs": [],
   "source": [
    "def get_price_from_itineraries(x):\n",
    "    # there is a possibility of having multiple price options, int that cas let's return the min price\n",
    "    if len(x.PricingOptions)==1:\n",
    "        return x.PricingOptions[0]['Price']\n",
    "    else:\n",
    "        # get minimum price\n",
    "        prices = []\n",
    "        for price_option in x.PricingOptions:\n",
    "            prices.append(price_option['Price'])\n",
    "        return min(prices)\n",
    "\n",
    "def get_planes_from_skyscanner(date_departure, date_return, departure, arrival, details = False, only_with_price= True):\n",
    "    url = \"https://skyscanner-skyscanner-flight-search-v1.p.rapidapi.com/apiservices/pricing/v1.0\"\n",
    "    one_way = date_return is None\n",
    "    if one_way:\n",
    "        payload = f'cabinClass=economy&children=0&infants=0&country=FR&currency=USD&locale=en-US&originPlace={departure}&destinationPlace={arrival}&outboundDate={date_departure}&adults=1'\n",
    "    else :\n",
    "        payload = f'inboundDate={date_return}&cabinClass=economy&children=0&infants=0&country=FR&currency=USD&locale=en-US&originPlace={departure}&destinationPlace={arrival}&outboundDate={date_departure}&adults=1'\n",
    "    print(payload)\n",
    "    headers = {\n",
    "        'x-rapidapi-host': \"skyscanner-skyscanner-flight-search-v1.p.rapidapi.com\",\n",
    "        'x-rapidapi-key': \"c8568b20bdmsha7927470ad4afdbp13559djsn5c9a0c383cc2\",\n",
    "        'content-type': \"application/x-www-form-urlencoded\"\n",
    "        }\n",
    "    # create session  \n",
    "    response = requests.request(\"POST\", url, data=payload, headers=headers)\n",
    "    # get session key \n",
    "    print(response.headers)\n",
    "    key = response.headers['Location'].split('/')[-1]\n",
    "    url = 'https://skyscanner-skyscanner-flight-search-v1.p.rapidapi.com/apiservices/pricing/uk2/v1.0/'+key\n",
    "    querystring = {\"pageIndex\":\"0\",\"pageSize\":\"10\"}\n",
    "\n",
    "    headers = {\n",
    "        'x-rapidapi-host': \"skyscanner-skyscanner-flight-search-v1.p.rapidapi.com\",\n",
    "        'x-rapidapi-key': \"c8568b20bdmsha7927470ad4afdbp13559djsn5c9a0c383cc2\"\n",
    "        }\n",
    "\n",
    "    response = requests.request(\"GET\", url, headers=headers, params=querystring)\n",
    "    print('le statut de la reponse est '+response.json()['Status'])\n",
    "    return format_skyscanner_response(response.json(), one_way, details)\n",
    "\n",
    "    \n",
    "def format_skyscanner_response(rep_json, one_way=False, segment_details = False, only_with_price = True):\n",
    "    \"\"\" \n",
    "    Format complicated json with information flighing around into a clear dataframe\n",
    "    See Skyscanner API doc for more info https://skyscanner.github.io/slate/?_ga=1.104705984.172843296.1446781555#polling-the-results\n",
    "    \"\"\"\n",
    "    # get legs (aggregated outbound or inbound trip)\n",
    "    legs = pd.DataFrame.from_dict(rep_json['Legs'])\n",
    "    #print(f'we got {legs.shape[0]} legs')\n",
    "    # get itinaries (vector of 2 legs with the total price and price info)\n",
    "    itineraries = pd.DataFrame.from_dict(rep_json['Itineraries'])\n",
    "    # reset_index to get an unique id for each itinary \n",
    "    itineraries.reset_index(inplace=True)\n",
    "    itineraries = itineraries.rename(columns={'index': 'itinerary_id'})\n",
    "    \n",
    "    legs['nb_segments'] = legs.apply(lambda x: len(x['SegmentIds']),axis=1)\n",
    "    #print(f'we got {itineraries.shape[0]} itineraries')\n",
    "    # get a single price for each itinary (might have more than 1)\n",
    "    itineraries['PriceTotal_AR'] = itineraries.apply(get_price_from_itineraries, axis=1)\n",
    "    \n",
    "    # get places (airport codes)\n",
    "    places = pd.DataFrame.from_dict(rep_json['Places'])\n",
    "    places = places.merge(airports[['Code','geoloc']], on = 'Code')\n",
    "    #print(f'we got {places.shape[0]} places')\n",
    "    # We merge to get price for both the inbound and outbound legs\n",
    "    legs = legs.merge(itineraries[['itinerary_id','OutboundLegId','PriceTotal_AR']], how = 'left'\n",
    "                      , left_on = 'Id', right_on = 'OutboundLegId', suffixes=['','_out'])\n",
    "    if not one_way:\n",
    "        legs = legs.merge(itineraries[['itinerary_id','InboundLegId','PriceTotal_AR']], how = 'left'\n",
    "                      , left_on = 'Id', right_on = 'InboundLegId', suffixes=['','_in'])\n",
    "    # Filter out legs where there is no itinary associated (so no price)\n",
    "    if only_with_price & one_way:\n",
    "        legs = legs[(legs.Id.isin(itineraries.OutboundLegId.unique()))]\n",
    "    elif only_with_price:\n",
    "        legs = legs[(legs.Id.isin(itineraries.OutboundLegId.unique()))|(legs.Id.isin(itineraries.InboundLegId.unique()))]\n",
    "    \n",
    "    # We merge to get both the premiere departure airport and the final airport\n",
    "    legs = legs.merge(places[['Id','Code','geoloc']], left_on = 'OriginStation',right_on = 'Id', suffixes=['','_origin'] )\n",
    "    legs = legs.merge(places[['Id','Code','geoloc']], left_on = 'DestinationStation',right_on = 'Id', suffixes=['','_destination'] )\n",
    "    \n",
    "    if not one_way:\n",
    "        # Reunite the price and the index in the same column for inbound and outbound\n",
    "        legs['PriceTotal_AR'] = legs.PriceTotal_AR.combine_first(legs.PriceTotal_AR_in)\n",
    "        legs['itinerary_id'] = legs['itinerary_id'].combine_first(legs.itinerary_id_in)\n",
    "           \n",
    "    # If no details asked we stay at leg granularity\n",
    "    if not segment_details:\n",
    "        return legs[['itinerary_id','Directionality','Id','Arrival','Departure','Duration','JourneyMode','SegmentIds'\n",
    "                     ,'nb_segments','PriceTotal_AR','Code', 'geoloc', 'Code_destination', 'geoloc_destination']].sort_values(by=['index','Id'])\n",
    "    # else we break it down to each segment\n",
    "    else : \n",
    "        # get segments (each unique actual flight)\n",
    "        segments = pd.DataFrame.from_dict(rep_json['Segments'])\n",
    "        #print(f'we got {segments.shape[0]} segments')\n",
    "        # get carriers (flight companies)\n",
    "        carriers = pd.DataFrame.from_dict(rep_json['Carriers'])\n",
    "        #print(f'we got {carriers.shape[0]} carriers')\n",
    "        # Explode the list of segment associated to each leg to have one lie per segment\n",
    "        segments_rich = pandas_explode(legs,'SegmentIds')\n",
    "        \n",
    "        # Add relevant segment info to the exploded df (already containing all the leg and itinary infos)\n",
    "        segments_rich = segments_rich.merge(segments, left_on = 'SegmentIds',right_on = 'Id', suffixes=['_global','_seg'] )\n",
    "        segments_rich = segments_rich.merge(places[['Id','Code','Type','Name','geoloc']], left_on = 'DestinationStation_seg',right_on = 'Id', suffixes=['','_destination_seg'] )\n",
    "        segments_rich = segments_rich.merge(places[['Id','Code','Type','Name','geoloc']], left_on = 'OriginStation_seg',right_on = 'Id', suffixes=['','_origin_seg'])\n",
    "        segments_rich = segments_rich.merge(carriers[['Id','Code']], left_on = 'Carrier',right_on = 'Id', suffixes=['','_carrier'] )\n",
    "        \n",
    "        # Recreate the usual Flight number (like AF10 for CDG to JFK)\n",
    "        segments_rich['FlightNumber_rich'] = segments_rich['Code_carrier'] + segments_rich['FlightNumber']\n",
    "        # Recreate the order of the segment (not working so far)\n",
    "        # segments_rich['seg_rank'] = segments_rich.groupby('Id_global')[\"value\"].rank(\"dense\", ascending=False)\n",
    "        # keep only the relevant information\n",
    "        return segments_rich[['itinerary_id','Directionality_seg','Arrival', 'Departure', 'Code', 'geoloc', 'Code_destination', 'geoloc_destination', 'Duration_global',\n",
    "                            'Id_global', 'PriceTotal_AR', 'nb_segments', 'ArrivalDateTime', 'DepartureDateTime',\n",
    "                              'Duration_seg', 'JourneyMode_seg',\n",
    "                             'Id','Code_origin_seg','geoloc_origin_seg', 'Code_destination_seg', 'geoloc_destination_seg','FlightNumber_rich']].sort_values(by=['itinerary_id','Id_global'])\n"
   ]
  },
  {
   "cell_type": "code",
   "execution_count": 355,
   "metadata": {},
   "outputs": [
    {
     "name": "stdout",
     "output_type": "stream",
     "text": [
      "le statut de la reponse est UpdatesComplete\n",
      "0:00:05.241966\n"
     ]
    }
   ],
   "source": [
    "# Test AR no details\n",
    "tmp = dt.now()\n",
    "short_response = get_planes_from_skyscanner('2019-11-01','2019-11-10','LAX-sky','CDG-sky', details=False)\n",
    "print(dt.now()-tmp)"
   ]
  },
  {
   "cell_type": "code",
   "execution_count": 378,
   "metadata": {
    "scrolled": false
   },
   "outputs": [
    {
     "name": "stdout",
     "output_type": "stream",
     "text": [
      "inboundDate=2019-11-10&cabinClass=economy&children=0&infants=0&country=FR&currency=USD&locale=en-US&originPlace=LAX-sky&destinationPlace=CDG-sky&outboundDate=2019-11-01&adults=1\n",
      "{'Cache-Control': 'private', 'Content-Type': 'application/json', 'Date': 'Fri, 04 Oct 2019 08:40:13 GMT', 'Location': 'http://partners.api.skyscanner.net/apiservices/pricing/uk2/v1.0/225424db-351c-4076-8f7b-9347805d1e8c', 'Server': 'RapidAPI-1.0.31', 'X-RapidAPI-Region': 'AWS - eu-central-1', 'X-RapidAPI-Version': '1.0.31', 'Content-Length': '2', 'Connection': 'keep-alive'}\n",
      "le statut de la reponse est UpdatesComplete\n",
      "0:00:04.987263\n"
     ]
    }
   ],
   "source": [
    "# Test AR with details\n",
    "tmp = dt.now()\n",
    "full_response = get_planes_from_skyscanner('2019-11-01','2019-11-10','LAX-sky','CDG-sky', details=True, only_with_price = True)\n",
    "print(dt.now()-tmp)"
   ]
  },
  {
   "cell_type": "code",
   "execution_count": 381,
   "metadata": {},
   "outputs": [
    {
     "name": "stdout",
     "output_type": "stream",
     "text": [
      "cabinClass=economy&children=0&infants=0&country=FR&currency=USD&locale=en-US&originPlace=LAX-sky&destinationPlace=CDG-sky&outboundDate=2019-11-01&adults=1\n",
      "{'Cache-Control': 'private', 'Content-Type': 'application/json', 'Date': 'Fri, 04 Oct 2019 08:41:34 GMT', 'Location': 'http://partners.api.skyscanner.net/apiservices/pricing/uk2/v1.0/7c60b434-bc94-433c-9c4d-7a497038cce8', 'Server': 'RapidAPI-1.0.31', 'X-RapidAPI-Region': 'AWS - eu-central-1', 'X-RapidAPI-Version': '1.0.31', 'Content-Length': '2', 'Connection': 'keep-alive'}\n",
      "le statut de la reponse est UpdatesPending\n",
      "0:00:03.005817\n"
     ]
    }
   ],
   "source": [
    "# Test one way with details\n",
    "tmp = dt.now()\n",
    "full_response = get_planes_from_skyscanner('2019-11-01', None,'LAX-sky','CDG-sky', details=True, only_with_price = True)\n",
    "print(dt.now()-tmp)"
   ]
  },
  {
   "cell_type": "code",
   "execution_count": null,
   "metadata": {},
   "outputs": [],
   "source": []
  }
 ],
 "metadata": {
  "kernelspec": {
   "display_name": "Python 3",
   "language": "python",
   "name": "python3"
  },
  "language_info": {
   "codemirror_mode": {
    "name": "ipython",
    "version": 3
   },
   "file_extension": ".py",
   "mimetype": "text/x-python",
   "name": "python",
   "nbconvert_exporter": "python",
   "pygments_lexer": "ipython3",
   "version": "3.6.5"
  }
 },
 "nbformat": 4,
 "nbformat_minor": 2
}
