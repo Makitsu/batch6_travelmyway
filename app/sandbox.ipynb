{
 "cells": [
  {
   "cell_type": "code",
   "execution_count": 3,
   "metadata": {
    "ExecuteTime": {
     "end_time": "2019-10-16T17:18:55.985336Z",
     "start_time": "2019-10-16T17:18:55.945331Z"
    }
   },
   "outputs": [],
   "source": [
    "from importlib import reload\n",
    "import TMW\n",
    "reload(TMW)\n",
    "\n",
    "api_keys = TMW.get_api_keys()\n",
    "ORS_api_key = api_keys['ORS_api_key']\n",
    "OuiBus_api_key = api_keys['OuiBus_api_key']\n",
    "SkyScanner_api_key = api_keys['SkyScanner_api_key']\n",
    "Navitia_api_key = api_keys['Navitia_api_key']"
   ]
  }
 ],
 "metadata": {
  "kernelspec": {
   "display_name": "Python 3",
   "language": "python",
   "name": "python3"
  },
  "language_info": {
   "codemirror_mode": {
    "name": "ipython",
    "version": 3
   },
   "file_extension": ".py",
   "mimetype": "text/x-python",
   "name": "python",
   "nbconvert_exporter": "python",
   "pygments_lexer": "ipython3",
   "version": "3.7.3"
  },
  "varInspector": {
   "cols": {
    "lenName": 16,
    "lenType": 16,
    "lenVar": 40
   },
   "kernels_config": {
    "python": {
     "delete_cmd_postfix": "",
     "delete_cmd_prefix": "del ",
     "library": "var_list.py",
     "varRefreshCmd": "print(var_dic_list())"
    },
    "r": {
     "delete_cmd_postfix": ") ",
     "delete_cmd_prefix": "rm(",
     "library": "var_list.r",
     "varRefreshCmd": "cat(var_dic_list()) "
    }
   },
   "types_to_exclude": [
    "module",
    "function",
    "builtin_function_or_method",
    "instance",
    "_Feature"
   ],
   "window_display": true
  }
 },
 "nbformat": 4,
 "nbformat_minor": 2
}
